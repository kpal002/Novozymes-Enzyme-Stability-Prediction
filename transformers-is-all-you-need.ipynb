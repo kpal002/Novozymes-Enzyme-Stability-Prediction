{
 "cells": [
  {
   "cell_type": "code",
   "execution_count": 109,
   "metadata": {
    "_cell_guid": "b1076dfc-b9ad-4769-8c92-a6c4dae69d19",
    "_uuid": "8f2839f25d086af736a60e9eeb907d3b93b6e0e5",
    "execution": {
     "iopub.execute_input": "2022-11-22T08:47:50.715146Z",
     "iopub.status.busy": "2022-11-22T08:47:50.714755Z",
     "iopub.status.idle": "2022-11-22T08:47:50.726343Z",
     "shell.execute_reply": "2022-11-22T08:47:50.725113Z",
     "shell.execute_reply.started": "2022-11-22T08:47:50.715113Z"
    }
   },
   "outputs": [
    {
     "name": "stdout",
     "output_type": "stream",
     "text": [
      "/kaggle/input/novozymes-enzyme-stability-prediction/sample_submission.csv\n",
      "/kaggle/input/novozymes-enzyme-stability-prediction/wildtype_structure_prediction_af2.pdb\n",
      "/kaggle/input/novozymes-enzyme-stability-prediction/train.csv\n",
      "/kaggle/input/novozymes-enzyme-stability-prediction/test.csv\n",
      "/kaggle/input/novozymes-enzyme-stability-prediction/train_updates_20220929.csv\n"
     ]
    }
   ],
   "source": [
    "# This Python 3 environment comes with many helpful analytics libraries installed\n",
    "# It is defined by the kaggle/python Docker image: https://github.com/kaggle/docker-python\n",
    "# For example, here's several helpful packages to load\n",
    "\n",
    "import numpy as np # linear algebra\n",
    "import pandas as pd # data processing, CSV file I/O (e.g. pd.read_csv)\n",
    "\n",
    "# Input data files are available in the read-only \"../input/\" directory\n",
    "# For example, running this (by clicking run or pressing Shift+Enter) will list all files under the input directory\n",
    "\n",
    "import os\n",
    "for dirname, _, filenames in os.walk('/kaggle/input'):\n",
    "    for filename in filenames:\n",
    "        print(os.path.join(dirname, filename))\n",
    "\n",
    "# You can write up to 20GB to the current directory (/kaggle/working/) that gets preserved as output when you create a version using \"Save & Run All\" \n",
    "# You can also write temporary files to /kaggle/temp/, but they won't be saved outside of the current session"
   ]
  },
  {
   "cell_type": "markdown",
   "metadata": {},
   "source": [
    "This notebook uses the pretrained language models ProtTrans [Link](https://github.com/agemagician/ProtTrans). ProtTrans was trained on thousands of GPUs from Summit and hundreds of Google TPUs using Transformers Models."
   ]
  },
  {
   "cell_type": "markdown",
   "metadata": {},
   "source": [
    "1. Load necessry libraries including huggingface and bertvis transformers"
   ]
  },
  {
   "cell_type": "code",
   "execution_count": 3,
   "metadata": {
    "execution": {
     "iopub.execute_input": "2022-11-22T08:47:50.731912Z",
     "iopub.status.busy": "2022-11-22T08:47:50.731398Z",
     "iopub.status.idle": "2022-11-22T08:47:50.745867Z",
     "shell.execute_reply": "2022-11-22T08:47:50.744983Z",
     "shell.execute_reply.started": "2022-11-22T08:47:50.731885Z"
    }
   },
   "outputs": [],
   "source": [
    "import re\n",
    "import os\n",
    "import random\n",
    "import pickle\n",
    "import math\n",
    "import numpy as np\n",
    "import pandas as pd\n",
    "from tqdm import tqdm\n",
    "import tensorflow as tf\n",
    "from tensorflow import keras\n",
    "import matplotlib.pyplot as plt\n",
    "from tensorflow.keras import layers\n",
    "# from tensorflow.keras.layers import TextVectorization\n",
    "from tensorflow.keras.preprocessing.text import Tokenizer\n",
    "from tensorflow.keras.preprocessing.sequence import pad_sequences\n",
    "from transformers import TFBertForMaskedLM, BertTokenizer\n",
    "from matplotlib import rcParams\n",
    "from sklearn.model_selection import KFold, cross_val_score\n",
    "from sklearn.model_selection import train_test_split\n",
    "from sklearn.utils import shuffle\n",
    "# Scipy's implementation of Spearman's Rho \n",
    "from scipy.stats import spearmanr\n",
    "seed = 42"
   ]
  },
  {
   "cell_type": "code",
   "execution_count": 4,
   "metadata": {
    "execution": {
     "iopub.execute_input": "2022-11-22T08:47:50.749623Z",
     "iopub.status.busy": "2022-11-22T08:47:50.748565Z",
     "iopub.status.idle": "2022-11-22T08:48:34.578117Z",
     "shell.execute_reply": "2022-11-22T08:48:34.576601Z",
     "shell.execute_reply.started": "2022-11-22T08:47:50.749542Z"
    }
   },
   "outputs": [],
   "source": [
    "%%capture\n",
    "!pip install torchmetrics\n",
    "!pip install pytorch-nlp\n",
    "!pip install -q transformers\n",
    "!git clone https://github.com/jessevig/bertviz.git"
   ]
  },
  {
   "cell_type": "code",
   "execution_count": 5,
   "metadata": {
    "execution": {
     "iopub.execute_input": "2022-11-22T08:48:34.582197Z",
     "iopub.status.busy": "2022-11-22T08:48:34.581787Z",
     "iopub.status.idle": "2022-11-22T08:48:34.722118Z",
     "shell.execute_reply": "2022-11-22T08:48:34.720977Z",
     "shell.execute_reply.started": "2022-11-22T08:48:34.582162Z"
    }
   },
   "outputs": [],
   "source": [
    "def seed_everything(seed):\n",
    "    os.environ['PYTHONHASHSEED'] = str(seed)\n",
    "    random.seed(seed)\n",
    "    np.random.seed(seed)\n",
    "    tf.random.set_seed(seed)\n",
    "    \n",
    "seed_everything(1234)"
   ]
  },
  {
   "cell_type": "code",
   "execution_count": 6,
   "metadata": {
    "execution": {
     "iopub.execute_input": "2022-11-22T08:48:34.725595Z",
     "iopub.status.busy": "2022-11-22T08:48:34.724847Z",
     "iopub.status.idle": "2022-11-22T08:48:35.111758Z",
     "shell.execute_reply": "2022-11-22T08:48:35.110782Z",
     "shell.execute_reply.started": "2022-11-22T08:48:34.725551Z"
    }
   },
   "outputs": [
    {
     "name": "stdout",
     "output_type": "stream",
     "text": [
      "train_shape:(31390, 5),test_shape:(2413, 4),Sample_shape:(2413, 2)\n"
     ]
    }
   ],
   "source": [
    "df_train = pd.read_csv('train.csv')\n",
    "df_test = pd.read_csv(\"test.csv\")\n",
    "sample = pd.read_csv('sample_submission.csv')\n",
    "\n",
    "print(f\"train_shape:{df_train.shape},test_shape:{df_test.shape},Sample_shape:{sample.shape}\")"
   ]
  },
  {
   "cell_type": "code",
   "execution_count": 7,
   "metadata": {
    "execution": {
     "iopub.execute_input": "2022-11-22T08:48:35.114669Z",
     "iopub.status.busy": "2022-11-22T08:48:35.114306Z",
     "iopub.status.idle": "2022-11-22T08:48:35.138061Z",
     "shell.execute_reply": "2022-11-22T08:48:35.137064Z",
     "shell.execute_reply.started": "2022-11-22T08:48:35.114639Z"
    }
   },
   "outputs": [],
   "source": [
    "# Make corrections to data 2409 rows, with all features marked as NaN), \n",
    "# as well as the rows where the pH and tm were transposed \n",
    "# (25 rows, with corrected features in this dataset)\n",
    "\n",
    "import pandas as pd\n",
    "\n",
    "df_train_updates = pd.read_csv(\"train_updates_20220929.csv\", index_col=\"seq_id\")\n",
    "\n",
    "all_features_nan = df_train_updates.isnull().all(\"columns\")\n",
    "\n",
    "drop_indices = df_train_updates[all_features_nan].index\n",
    "df_train = df_train.drop(index=drop_indices)\n",
    "\n",
    "swap_ph_tm_indices = df_train_updates[~all_features_nan].index\n",
    "df_train.loc[swap_ph_tm_indices, [\"pH\", \"tm\"]] = df_train_updates.loc[swap_ph_tm_indices, [\"pH\", \"tm\"]]"
   ]
  },
  {
   "cell_type": "code",
   "execution_count": 8,
   "metadata": {
    "execution": {
     "iopub.execute_input": "2022-11-22T08:48:35.141331Z",
     "iopub.status.busy": "2022-11-22T08:48:35.140276Z",
     "iopub.status.idle": "2022-11-22T08:48:35.154480Z",
     "shell.execute_reply": "2022-11-22T08:48:35.153227Z",
     "shell.execute_reply.started": "2022-11-22T08:48:35.141284Z"
    }
   },
   "outputs": [
    {
     "name": "stdout",
     "output_type": "stream",
     "text": [
      "Metal device set to: Apple M1 Pro\n",
      "WARNING:tensorflow:Some requested devices in `tf.distribute.Strategy` are not visible to TensorFlow: /job:localhost/replica:0/task:0/device:GPU:0,/job:localhost/replica:0/task:0/device:GPU:1\n",
      "INFO:tensorflow:Using MirroredStrategy with devices ('/job:localhost/replica:0/task:0/device:GPU:0', '/job:localhost/replica:0/task:0/device:GPU:1')\n"
     ]
    },
    {
     "name": "stderr",
     "output_type": "stream",
     "text": [
      "2022-11-22 02:56:36.270486: I tensorflow/core/common_runtime/pluggable_device/pluggable_device_factory.cc:306] Could not identify NUMA node of platform GPU ID 0, defaulting to 0. Your kernel may not have been built with NUMA support.\n",
      "2022-11-22 02:56:36.270896: I tensorflow/core/common_runtime/pluggable_device/pluggable_device_factory.cc:272] Created TensorFlow device (/job:localhost/replica:0/task:0/device:GPU:0 with 0 MB memory) -> physical PluggableDevice (device: 0, name: METAL, pci bus id: <undefined>)\n"
     ]
    }
   ],
   "source": [
    "strategy = tf.distribute.MirroredStrategy(devices=[\"/gpu:0\", \"/gpu:1\"])"
   ]
  },
  {
   "cell_type": "code",
   "execution_count": 9,
   "metadata": {
    "execution": {
     "iopub.execute_input": "2022-11-22T08:48:35.157322Z",
     "iopub.status.busy": "2022-11-22T08:48:35.156631Z",
     "iopub.status.idle": "2022-11-22T08:48:35.166268Z",
     "shell.execute_reply": "2022-11-22T08:48:35.165437Z",
     "shell.execute_reply.started": "2022-11-22T08:48:35.157274Z"
    }
   },
   "outputs": [],
   "source": [
    "BATCH_SIZE = 16*strategy.num_replicas_in_sync\n",
    "BUFFER_SIZE = 5000\n",
    "AUTO = tf.data.AUTOTUNE\n",
    "EPOCHS = 100\n",
    "MAX_LEN = 512\n",
    "PAD_TYPE = 'post'\n",
    "TRUNC_TYPE = 'post'\n",
    "CHECKPOINT_PATH = 'mymodel.h5'"
   ]
  },
  {
   "cell_type": "code",
   "execution_count": 10,
   "metadata": {
    "execution": {
     "iopub.execute_input": "2022-11-22T08:48:35.169617Z",
     "iopub.status.busy": "2022-11-22T08:48:35.168952Z",
     "iopub.status.idle": "2022-11-22T08:48:35.180208Z",
     "shell.execute_reply": "2022-11-22T08:48:35.179191Z",
     "shell.execute_reply.started": "2022-11-22T08:48:35.169583Z"
    }
   },
   "outputs": [],
   "source": [
    "def preprocess(data):\n",
    "    seq = \" \".join(\"\".join(data.split()))\n",
    "    seq = re.sub(r\"[UZOB]\", \"X\", seq)\n",
    "\n",
    "    return seq"
   ]
  },
  {
   "cell_type": "code",
   "execution_count": 11,
   "metadata": {
    "execution": {
     "iopub.execute_input": "2022-11-22T08:48:35.182284Z",
     "iopub.status.busy": "2022-11-22T08:48:35.181876Z",
     "iopub.status.idle": "2022-11-22T08:48:36.037217Z",
     "shell.execute_reply": "2022-11-22T08:48:36.036081Z",
     "shell.execute_reply.started": "2022-11-22T08:48:35.182231Z"
    }
   },
   "outputs": [
    {
     "name": "stdout",
     "output_type": "stream",
     "text": [
      "{'[PAD]': 0, '[UNK]': 1, '[CLS]': 2, '[SEP]': 3, '[MASK]': 4, 'L': 5, 'A': 6, 'G': 7, 'V': 8, 'E': 9, 'S': 10, 'I': 11, 'K': 12, 'R': 13, 'D': 14, 'T': 15, 'P': 16, 'N': 17, 'Q': 18, 'F': 19, 'Y': 20, 'M': 21, 'H': 22, 'C': 23, 'W': 24, 'X': 25, 'U': 26, 'B': 27, 'Z': 28, 'O': 29}\n"
     ]
    }
   ],
   "source": [
    "tokenizer = BertTokenizer.from_pretrained(\"Rostlab/prot_bert\")\n",
    "print(f\"{tokenizer.get_vocab()}\")"
   ]
  },
  {
   "cell_type": "code",
   "execution_count": 12,
   "metadata": {
    "execution": {
     "iopub.execute_input": "2022-11-22T08:48:36.039234Z",
     "iopub.status.busy": "2022-11-22T08:48:36.038858Z",
     "iopub.status.idle": "2022-11-22T08:48:36.051312Z",
     "shell.execute_reply": "2022-11-22T08:48:36.050351Z",
     "shell.execute_reply.started": "2022-11-22T08:48:36.039195Z"
    }
   },
   "outputs": [],
   "source": [
    "X_train, X_valid, y_train, y_valid = train_test_split(df_train['protein_sequence'], df_train['tm'], test_size=0.15, random_state=42)"
   ]
  },
  {
   "cell_type": "code",
   "execution_count": 13,
   "metadata": {
    "execution": {
     "iopub.execute_input": "2022-11-22T08:48:36.057365Z",
     "iopub.status.busy": "2022-11-22T08:48:36.056497Z",
     "iopub.status.idle": "2022-11-22T08:48:36.066081Z",
     "shell.execute_reply": "2022-11-22T08:48:36.065127Z",
     "shell.execute_reply.started": "2022-11-22T08:48:36.057334Z"
    }
   },
   "outputs": [],
   "source": [
    "def prot_encode(texts, tokenizer, max_len = MAX_LEN):\n",
    "    input_ids = np.zeros((len(texts), max_len), dtype=\"int32\")\n",
    "    #token_type_ids = np.zeros((len(texts), max_len), dtype=\"int32\")\n",
    "    attention_mask = np.zeros((len(texts), max_len), dtype=\"int32\")\n",
    "    \n",
    "    for i, text in enumerate(texts):\n",
    "        text = preprocess(text)\n",
    "        token = tokenizer(text, \n",
    "                          max_length         = max_len, \n",
    "                          truncation         = True, \n",
    "                          padding            = \"max_length\",\n",
    "                          add_special_tokens = True,\n",
    "                          return_tensors     = \"np\")\n",
    "        \n",
    "        input_ids[i] = token['input_ids']\n",
    "        #token_type_ids[i] = token['token_type_ids']\n",
    "        attention_mask[i] = token['attention_mask']\n",
    "    return input_ids, attention_mask   #token_type_ids, "
   ]
  },
  {
   "cell_type": "code",
   "execution_count": 14,
   "metadata": {
    "execution": {
     "iopub.execute_input": "2022-11-22T08:48:36.069186Z",
     "iopub.status.busy": "2022-11-22T08:48:36.068103Z",
     "iopub.status.idle": "2022-11-22T08:50:50.330222Z",
     "shell.execute_reply": "2022-11-22T08:50:50.329061Z",
     "shell.execute_reply.started": "2022-11-22T08:48:36.069147Z"
    }
   },
   "outputs": [],
   "source": [
    "X_train = prot_encode(X_train.astype(str), tokenizer)\n",
    "X_valid = prot_encode(X_valid.astype(str), tokenizer)\n",
    "\n",
    "y_train = y_train.values\n",
    "y_valid = y_valid.values"
   ]
  },
  {
   "cell_type": "code",
   "execution_count": 15,
   "metadata": {
    "execution": {
     "iopub.execute_input": "2022-11-22T08:50:50.332473Z",
     "iopub.status.busy": "2022-11-22T08:50:50.332011Z",
     "iopub.status.idle": "2022-11-22T08:50:50.365018Z",
     "shell.execute_reply": "2022-11-22T08:50:50.364074Z",
     "shell.execute_reply.started": "2022-11-22T08:50:50.332429Z"
    }
   },
   "outputs": [],
   "source": [
    "train_dataset = (\n",
    "    tf.data.Dataset\n",
    "    .from_tensor_slices((X_train, y_train))\n",
    "    .repeat()\n",
    "    .shuffle(2048)\n",
    "    .batch(BATCH_SIZE)\n",
    "    .prefetch(AUTO)\n",
    ")\n",
    "\n",
    "valid_dataset = (\n",
    "    tf.data.Dataset\n",
    "    .from_tensor_slices((X_valid, y_valid))\n",
    "    .batch(BATCH_SIZE)\n",
    "    .cache()\n",
    "    .prefetch(AUTO)\n",
    ")"
   ]
  },
  {
   "cell_type": "code",
   "execution_count": 16,
   "metadata": {
    "execution": {
     "iopub.execute_input": "2022-11-22T08:50:50.367108Z",
     "iopub.status.busy": "2022-11-22T08:50:50.366557Z",
     "iopub.status.idle": "2022-11-22T08:50:50.415887Z",
     "shell.execute_reply": "2022-11-22T08:50:50.414785Z",
     "shell.execute_reply.started": "2022-11-22T08:50:50.367069Z"
    }
   },
   "outputs": [
    {
     "name": "stdout",
     "output_type": "stream",
     "text": [
      "(<tf.Tensor: shape=(32, 512), dtype=int32, numpy=\n",
      "array([[ 2, 21, 10, ...,  0,  0,  0],\n",
      "       [ 2, 21,  6, ...,  0,  0,  0],\n",
      "       [ 2, 21, 10, ...,  0,  0,  0],\n",
      "       ...,\n",
      "       [ 2, 21,  9, ...,  0,  0,  0],\n",
      "       [ 2, 21, 10, ...,  0,  0,  0],\n",
      "       [ 2, 21, 17, ..., 10, 11,  3]], dtype=int32)>, <tf.Tensor: shape=(32, 512), dtype=int32, numpy=\n",
      "array([[1, 1, 1, ..., 0, 0, 0],\n",
      "       [1, 1, 1, ..., 0, 0, 0],\n",
      "       [1, 1, 1, ..., 0, 0, 0],\n",
      "       ...,\n",
      "       [1, 1, 1, ..., 0, 0, 0],\n",
      "       [1, 1, 1, ..., 0, 0, 0],\n",
      "       [1, 1, 1, ..., 1, 1, 1]], dtype=int32)>)\n",
      "tf.Tensor(\n",
      "[47.6 56.  46.5 53.5 49.6 40.3 51.9 45.9 88.9 49.6 41.6 43.9 61.  54.\n",
      " 47.5 41.1 64.7 44.8 49.7 45.6 89.1 53.8 55.2 46.4 47.2 57.7 46.7 32.5\n",
      " 43.8 75.9 35.7 40.3], shape=(32,), dtype=float64)\n"
     ]
    }
   ],
   "source": [
    "for x, y in train_dataset.take(1):\n",
    "    print(x)\n",
    "    print(y)"
   ]
  },
  {
   "cell_type": "code",
   "execution_count": 17,
   "metadata": {
    "execution": {
     "iopub.execute_input": "2022-11-22T08:50:50.417487Z",
     "iopub.status.busy": "2022-11-22T08:50:50.417063Z",
     "iopub.status.idle": "2022-11-22T08:50:50.424468Z",
     "shell.execute_reply": "2022-11-22T08:50:50.423423Z",
     "shell.execute_reply.started": "2022-11-22T08:50:50.417444Z"
    }
   },
   "outputs": [],
   "source": [
    "model_checkpoint_callback = keras.callbacks.ModelCheckpoint(CHECKPOINT_PATH,\n",
    "                                                           monitor='val_loss',\n",
    "                                                           save_best_only=True,\n",
    "                                                           save_weights_only=True)\n",
    "\n",
    "earlystop_callback = keras.callbacks.EarlyStopping(monitor='val_loss',\n",
    "                                                  patience=10,\n",
    "                                                  verbose=1)\n",
    "\n",
    "reducelr_callback = keras.callbacks.ReduceLROnPlateau(monitor='val_loss',\n",
    "                                                     factor=0.2,\n",
    "                                                     patience=5,\n",
    "                                                     verbose=1)"
   ]
  },
  {
   "cell_type": "code",
   "execution_count": 18,
   "metadata": {
    "execution": {
     "iopub.execute_input": "2022-11-22T08:50:50.426841Z",
     "iopub.status.busy": "2022-11-22T08:50:50.426132Z",
     "iopub.status.idle": "2022-11-22T08:50:50.439845Z",
     "shell.execute_reply": "2022-11-22T08:50:50.439181Z",
     "shell.execute_reply.started": "2022-11-22T08:50:50.426801Z"
    }
   },
   "outputs": [],
   "source": [
    "def build_model(trainable=False,max_len=512):\n",
    "    base_model = TFBertForMaskedLM.from_pretrained(\"Rostlab/prot_bert\", from_pt=True)\n",
    "    base_model.trainable = trainable\n",
    "    input_ids = keras.Input(shape=(max_len,), dtype=tf.int32, name=\"input_ids\")\n",
    "\n",
    "    attention_mask = keras.Input(shape=(max_len,), dtype=tf.int32, name=\"attention_mask\")\n",
    "    base_output = base_model.bert(input_ids=input_ids,attention_mask=attention_mask)\n",
    "    last_hidden_state = base_output[0]\n",
    "    x = layers.GlobalAveragePooling1D()(last_hidden_state)\n",
    "    x = layers.Dense(512, activation='relu')(x)\n",
    "    x = layers.Dropout(0.15)(x)\n",
    "    x = layers.Dense(256, activation='relu')(x)\n",
    "    x = layers.Dropout(0.1)(x)\n",
    "    outputs = layers.Dense(1)(x)\n",
    "    model = keras.Model(inputs=[input_ids, attention_mask], outputs=outputs)\n",
    "    return model"
   ]
  },
  {
   "cell_type": "code",
   "execution_count": 21,
   "metadata": {
    "execution": {
     "iopub.execute_input": "2022-11-22T08:50:50.442868Z",
     "iopub.status.busy": "2022-11-22T08:50:50.442198Z",
     "iopub.status.idle": "2022-11-22T08:51:08.129087Z",
     "shell.execute_reply": "2022-11-22T08:51:08.127203Z",
     "shell.execute_reply.started": "2022-11-22T08:50:50.442830Z"
    }
   },
   "outputs": [
    {
     "name": "stderr",
     "output_type": "stream",
     "text": [
      "Some weights of the PyTorch model were not used when initializing the TF 2.0 model TFBertForMaskedLM: ['cls.predictions.decoder.bias']\n",
      "- This IS expected if you are initializing TFBertForMaskedLM from a PyTorch model trained on another task or with another architecture (e.g. initializing a TFBertForSequenceClassification model from a BertForPreTraining model).\n",
      "- This IS NOT expected if you are initializing TFBertForMaskedLM from a PyTorch model that you expect to be exactly identical (e.g. initializing a TFBertForSequenceClassification model from a BertForSequenceClassification model).\n",
      "All the weights of TFBertForMaskedLM were initialized from the PyTorch model.\n",
      "If your task is similar to the task the model of the checkpoint was trained on, you can already use TFBertForMaskedLM for predictions without further training.\n"
     ]
    },
    {
     "name": "stdout",
     "output_type": "stream",
     "text": [
      "Model: \"model\"\n",
      "__________________________________________________________________________________________________\n",
      " Layer (type)                   Output Shape         Param #     Connected to                     \n",
      "==================================================================================================\n",
      " input_ids (InputLayer)         [(None, 512)]        0           []                               \n",
      "                                                                                                  \n",
      " attention_mask (InputLayer)    [(None, 512)]        0           []                               \n",
      "                                                                                                  \n",
      " bert (TFBertMainLayer)         TFBaseModelOutputWi  418881536   ['input_ids[0][0]',              \n",
      "                                thPoolingAndCrossAt               'attention_mask[0][0]']         \n",
      "                                tentions(last_hidde                                               \n",
      "                                n_state=(None, 512,                                               \n",
      "                                 1024),                                                           \n",
      "                                 pooler_output=None                                               \n",
      "                                , past_key_values=N                                               \n",
      "                                one, hidden_states=                                               \n",
      "                                None, attentions=No                                               \n",
      "                                ne, cross_attention                                               \n",
      "                                s=None)                                                           \n",
      "                                                                                                  \n",
      " global_average_pooling1d (Glob  (None, 1024)        0           ['bert[0][0]']                   \n",
      " alAveragePooling1D)                                                                              \n",
      "                                                                                                  \n",
      " dense (Dense)                  (None, 512)          524800      ['global_average_pooling1d[0][0]'\n",
      "                                                                 ]                                \n",
      "                                                                                                  \n",
      " dropout_91 (Dropout)           (None, 512)          0           ['dense[0][0]']                  \n",
      "                                                                                                  \n",
      " dense_1 (Dense)                (None, 256)          131328      ['dropout_91[0][0]']             \n",
      "                                                                                                  \n",
      " dropout_92 (Dropout)           (None, 256)          0           ['dense_1[0][0]']                \n",
      "                                                                                                  \n",
      " dense_2 (Dense)                (None, 1)            257         ['dropout_92[0][0]']             \n",
      "                                                                                                  \n",
      "==================================================================================================\n",
      "Total params: 419,537,921\n",
      "Trainable params: 419,537,921\n",
      "Non-trainable params: 0\n",
      "__________________________________________________________________________________________________\n"
     ]
    }
   ],
   "source": [
    "tf.keras.backend.clear_session()\n",
    "with strategy.scope():\n",
    "    \n",
    "    model = build_model(trainable=True)  # freeze base model\n",
    "\n",
    "    model.compile(optimizer=keras.optimizers.Adam(2e-5),\n",
    "                loss=keras.losses.MeanSquaredError(),\n",
    "                metrics=[keras.losses.MeanAbsoluteError()])\n",
    "\n",
    "model.summary()"
   ]
  },
  {
   "cell_type": "code",
   "execution_count": null,
   "metadata": {
    "execution": {
     "iopub.execute_input": "2022-11-22T08:51:08.130839Z",
     "iopub.status.busy": "2022-11-22T08:51:08.130453Z",
     "iopub.status.idle": "2022-11-22T10:44:27.516465Z",
     "shell.execute_reply": "2022-11-22T10:44:27.515363Z",
     "shell.execute_reply.started": "2022-11-22T08:51:08.130801Z"
    }
   },
   "outputs": [
    {
     "name": "stdout",
     "output_type": "stream",
     "text": [
      "Epoch 1/3\n"
     ]
    },
    {
     "name": "stderr",
     "output_type": "stream",
     "text": [
      "2022-11-22 03:13:27.217471: W tensorflow/core/grappler/optimizers/data/auto_shard.cc:776] AUTO sharding policy will apply DATA sharding policy as it failed to apply FILE sharding policy because of the following reason: Found an unshardable source dataset: name: \"TensorSliceDataset/_3\"\n",
      "op: \"TensorSliceDataset\"\n",
      "input: \"Placeholder/_0\"\n",
      "input: \"Placeholder/_1\"\n",
      "input: \"Placeholder/_2\"\n",
      "attr {\n",
      "  key: \"Toutput_types\"\n",
      "  value {\n",
      "    list {\n",
      "      type: DT_INT32\n",
      "      type: DT_INT32\n",
      "      type: DT_DOUBLE\n",
      "    }\n",
      "  }\n",
      "}\n",
      "attr {\n",
      "  key: \"_cardinality\"\n",
      "  value {\n",
      "    i: 24633\n",
      "  }\n",
      "}\n",
      "attr {\n",
      "  key: \"is_files\"\n",
      "  value {\n",
      "    b: false\n",
      "  }\n",
      "}\n",
      "attr {\n",
      "  key: \"metadata\"\n",
      "  value {\n",
      "    s: \"\\n\\024TensorSliceDataset:0\"\n",
      "  }\n",
      "}\n",
      "attr {\n",
      "  key: \"output_shapes\"\n",
      "  value {\n",
      "    list {\n",
      "      shape {\n",
      "        dim {\n",
      "          size: 512\n",
      "        }\n",
      "      }\n",
      "      shape {\n",
      "        dim {\n",
      "          size: 512\n",
      "        }\n",
      "      }\n",
      "      shape {\n",
      "      }\n",
      "    }\n",
      "  }\n",
      "}\n",
      "attr {\n",
      "  key: \"replicate_on_split\"\n",
      "  value {\n",
      "    b: false\n",
      "  }\n",
      "}\n",
      "experimental_type {\n",
      "  type_id: TFT_PRODUCT\n",
      "  args {\n",
      "    type_id: TFT_DATASET\n",
      "    args {\n",
      "      type_id: TFT_PRODUCT\n",
      "      args {\n",
      "        type_id: TFT_TENSOR\n",
      "        args {\n",
      "          type_id: TFT_INT32\n",
      "        }\n",
      "      }\n",
      "      args {\n",
      "        type_id: TFT_TENSOR\n",
      "        args {\n",
      "          type_id: TFT_INT32\n",
      "        }\n",
      "      }\n",
      "      args {\n",
      "        type_id: TFT_TENSOR\n",
      "        args {\n",
      "          type_id: TFT_DOUBLE\n",
      "        }\n",
      "      }\n",
      "    }\n",
      "  }\n",
      "}\n",
      "\n",
      "2022-11-22 03:13:27.278784: I tensorflow/core/grappler/optimizers/custom_graph_optimizer_registry.cc:114] Plugin optimizer for device_type GPU is enabled.\n",
      "2022-11-22 03:13:27.282436: I tensorflow/core/grappler/optimizers/custom_graph_optimizer_registry.cc:114] Plugin optimizer for device_type GPU is enabled.\n",
      "2022-11-22 03:13:27.286747: W tensorflow/core/framework/dataset.cc:769] Input of GeneratorDatasetOp::Dataset will not be optimized because the dataset does not implement the AsGraphDefInternal() method needed to apply optimizations.\n",
      "2022-11-22 03:13:45.525590: I tensorflow/core/grappler/optimizers/custom_graph_optimizer_registry.cc:114] Plugin optimizer for device_type GPU is enabled.\n"
     ]
    },
    {
     "name": "stdout",
     "output_type": "stream",
     "text": [
      " 48/769 [>.............................] - ETA: 49:52:36 - loss: 2429.0208 - mean_absolute_error: 47.9008"
     ]
    }
   ],
   "source": [
    "callbacks = [ \n",
    "    model_checkpoint_callback,\n",
    "    earlystop_callback,\n",
    "    reducelr_callback,\n",
    "]\n",
    "\n",
    "history = model.fit(train_dataset,\n",
    "                    validation_data=valid_dataset,\n",
    "                    epochs=3,\n",
    "                    callbacks=callbacks,\n",
    "                    steps_per_epoch=y_train.shape[0]//BATCH_SIZE,\n",
    "                   )"
   ]
  },
  {
   "cell_type": "code",
   "execution_count": 128,
   "metadata": {
    "execution": {
     "iopub.execute_input": "2022-11-22T10:44:27.526237Z",
     "iopub.status.busy": "2022-11-22T10:44:27.525920Z",
     "iopub.status.idle": "2022-11-22T10:44:27.873268Z",
     "shell.execute_reply": "2022-11-22T10:44:27.872397Z",
     "shell.execute_reply.started": "2022-11-22T10:44:27.526210Z"
    }
   },
   "outputs": [
    {
     "data": {
      "text/plain": [
       "[<matplotlib.lines.Line2D at 0x7f4a0711c810>]"
      ]
     },
     "execution_count": 128,
     "metadata": {},
     "output_type": "execute_result"
    },
    {
     "data": {
      "image/png": "[encoded data removed]",
      "text/plain": [
       "<Figure size 432x288 with 1 Axes>"
      ]
     },
     "metadata": {
      "needs_background": "light"
     },
     "output_type": "display_data"
    },
    {
     "data": {
      "image/png": "[encoded data removed]",
      "text/plain": [
       "<Figure size 432x288 with 1 Axes>"
      ]
     },
     "metadata": {
      "needs_background": "light"
     },
     "output_type": "display_data"
    }
   ],
   "source": [
    "loss = history.history['loss']\n",
    "epoch = range(len(loss) + len(history.history[\"loss\"]))\n",
    "\n",
    "plt.plot(epoch, history.history['loss']+history.history[\"loss\"])\n",
    "plt.plot(epoch, history.history['val_loss']+history.history[\"val_loss\"])\n",
    "\n",
    "plt.figure()\n",
    "plt.plot(epoch, history.history['mean_absolute_error']+history.history[\"mean_absolute_error\"])\n",
    "plt.plot(epoch, history.history['val_mean_absolute_error']+history.history[\"val_mean_absolute_error\"])"
   ]
  },
  {
   "cell_type": "markdown",
   "metadata": {},
   "source": [
    "# Submission"
   ]
  },
  {
   "cell_type": "code",
   "execution_count": 129,
   "metadata": {
    "execution": {
     "iopub.execute_input": "2022-11-22T10:44:27.875536Z",
     "iopub.status.busy": "2022-11-22T10:44:27.874585Z",
     "iopub.status.idle": "2022-11-22T10:44:38.448445Z",
     "shell.execute_reply": "2022-11-22T10:44:38.425551Z",
     "shell.execute_reply.started": "2022-11-22T10:44:27.875498Z"
    }
   },
   "outputs": [],
   "source": [
    "model.load_weights(CHECKPOINT_PATH)"
   ]
  },
  {
   "cell_type": "code",
   "execution_count": null,
   "metadata": {},
   "outputs": [],
   "source": []
  },
  {
   "cell_type": "code",
   "execution_count": 130,
   "metadata": {
    "execution": {
     "iopub.execute_input": "2022-11-22T10:44:38.465180Z",
     "iopub.status.busy": "2022-11-22T10:44:38.464703Z",
     "iopub.status.idle": "2022-11-22T10:44:43.845960Z",
     "shell.execute_reply": "2022-11-22T10:44:43.844990Z",
     "shell.execute_reply.started": "2022-11-22T10:44:38.465130Z"
    }
   },
   "outputs": [],
   "source": [
    "X_test = prot_encode(df_test['protein_sequence'].astype(str), tokenizer)"
   ]
  },
  {
   "cell_type": "code",
   "execution_count": 131,
   "metadata": {
    "execution": {
     "iopub.execute_input": "2022-11-22T10:44:43.847812Z",
     "iopub.status.busy": "2022-11-22T10:44:43.847458Z",
     "iopub.status.idle": "2022-11-22T10:48:08.121333Z",
     "shell.execute_reply": "2022-11-22T10:48:08.120369Z",
     "shell.execute_reply.started": "2022-11-22T10:44:43.847775Z"
    }
   },
   "outputs": [
    {
     "name": "stderr",
     "output_type": "stream",
     "text": [
      "2022-11-22 10:44:43.912968: W tensorflow/core/grappler/optimizers/data/auto_shard.cc:695] AUTO sharding policy will apply DATA sharding policy as it failed to apply FILE sharding policy because of the following reason: Did not find a shardable source, walked to a node which is not a dataset: name: \"FlatMapDataset/_9\"\n",
      "op: \"FlatMapDataset\"\n",
      "input: \"PrefetchDataset/_8\"\n",
      "attr {\n",
      "  key: \"Targuments\"\n",
      "  value {\n",
      "    list {\n",
      "    }\n",
      "  }\n",
      "}\n",
      "attr {\n",
      "  key: \"f\"\n",
      "  value {\n",
      "    func {\n",
      "      name: \"__inference_Dataset_flat_map_slice_batch_indices_408924\"\n",
      "    }\n",
      "  }\n",
      "}\n",
      "attr {\n",
      "  key: \"output_shapes\"\n",
      "  value {\n",
      "    list {\n",
      "      shape {\n",
      "        dim {\n",
      "          size: -1\n",
      "        }\n",
      "      }\n",
      "    }\n",
      "  }\n",
      "}\n",
      "attr {\n",
      "  key: \"output_types\"\n",
      "  value {\n",
      "    list {\n",
      "      type: DT_INT64\n",
      "    }\n",
      "  }\n",
      "}\n",
      ". Consider either turning off auto-sharding or switching the auto_shard_policy to DATA to shard this dataset. You can do this by creating a new `tf.data.Options()` object then setting `options.experimental_distribute.auto_shard_policy = AutoShardPolicy.DATA` before applying the options object to the dataset via `dataset.with_options(options)`.\n"
     ]
    },
    {
     "name": "stdout",
     "output_type": "stream",
     "text": [
      "76/76 [==============================] - 204s 2s/step\n"
     ]
    }
   ],
   "source": [
    "predictions = model.predict(X_test,verbose=1)"
   ]
  },
  {
   "cell_type": "code",
   "execution_count": 132,
   "metadata": {
    "execution": {
     "iopub.execute_input": "2022-11-22T10:48:08.125204Z",
     "iopub.status.busy": "2022-11-22T10:48:08.124869Z",
     "iopub.status.idle": "2022-11-22T10:48:08.154431Z",
     "shell.execute_reply": "2022-11-22T10:48:08.153438Z",
     "shell.execute_reply.started": "2022-11-22T10:48:08.125176Z"
    }
   },
   "outputs": [
    {
     "data": {
      "text/html": [
       "<div>\n",
       "<style scoped>\n",
       "    .dataframe tbody tr th:only-of-type {\n",
       "        vertical-align: middle;\n",
       "    }\n",
       "\n",
       "    .dataframe tbody tr th {\n",
       "        vertical-align: top;\n",
       "    }\n",
       "\n",
       "    .dataframe thead th {\n",
       "        text-align: right;\n",
       "    }\n",
       "</style>\n",
       "<table border=\"1\" class=\"dataframe\">\n",
       "  <thead>\n",
       "    <tr style=\"text-align: right;\">\n",
       "      <th></th>\n",
       "      <th>seq_id</th>\n",
       "      <th>tm</th>\n",
       "    </tr>\n",
       "  </thead>\n",
       "  <tbody>\n",
       "    <tr>\n",
       "      <th>0</th>\n",
       "      <td>31390</td>\n",
       "      <td>52.009064</td>\n",
       "    </tr>\n",
       "    <tr>\n",
       "      <th>1</th>\n",
       "      <td>31391</td>\n",
       "      <td>52.202170</td>\n",
       "    </tr>\n",
       "    <tr>\n",
       "      <th>2</th>\n",
       "      <td>31392</td>\n",
       "      <td>53.034683</td>\n",
       "    </tr>\n",
       "    <tr>\n",
       "      <th>3</th>\n",
       "      <td>31393</td>\n",
       "      <td>52.172737</td>\n",
       "    </tr>\n",
       "    <tr>\n",
       "      <th>4</th>\n",
       "      <td>31394</td>\n",
       "      <td>53.969177</td>\n",
       "    </tr>\n",
       "    <tr>\n",
       "      <th>...</th>\n",
       "      <td>...</td>\n",
       "      <td>...</td>\n",
       "    </tr>\n",
       "    <tr>\n",
       "      <th>2408</th>\n",
       "      <td>33798</td>\n",
       "      <td>54.248596</td>\n",
       "    </tr>\n",
       "    <tr>\n",
       "      <th>2409</th>\n",
       "      <td>33799</td>\n",
       "      <td>52.929880</td>\n",
       "    </tr>\n",
       "    <tr>\n",
       "      <th>2410</th>\n",
       "      <td>33800</td>\n",
       "      <td>52.971510</td>\n",
       "    </tr>\n",
       "    <tr>\n",
       "      <th>2411</th>\n",
       "      <td>33801</td>\n",
       "      <td>52.859947</td>\n",
       "    </tr>\n",
       "    <tr>\n",
       "      <th>2412</th>\n",
       "      <td>33802</td>\n",
       "      <td>55.351532</td>\n",
       "    </tr>\n",
       "  </tbody>\n",
       "</table>\n",
       "<p>2413 rows × 2 columns</p>\n",
       "</div>"
      ],
      "text/plain": [
       "      seq_id         tm\n",
       "0      31390  52.009064\n",
       "1      31391  52.202170\n",
       "2      31392  53.034683\n",
       "3      31393  52.172737\n",
       "4      31394  53.969177\n",
       "...      ...        ...\n",
       "2408   33798  54.248596\n",
       "2409   33799  52.929880\n",
       "2410   33800  52.971510\n",
       "2411   33801  52.859947\n",
       "2412   33802  55.351532\n",
       "\n",
       "[2413 rows x 2 columns]"
      ]
     },
     "execution_count": 132,
     "metadata": {},
     "output_type": "execute_result"
    }
   ],
   "source": [
    "submission_df = pd.DataFrame()\n",
    "submission_df[\"seq_id\"] = df_test[\"seq_id\"]\n",
    "submission_df[\"tm\"] = predictions\n",
    "submission_df.to_csv(\"submission.csv\", index=False)\n",
    "pd.read_csv('submission.csv')"
   ]
  }
 ],
 "metadata": {
  "kernelspec": {
   "display_name": "Python 3 (ipykernel)",
   "language": "python",
   "name": "python3"
  },
  "language_info": {
   "codemirror_mode": {
    "name": "ipython",
    "version": 3
   },
   "file_extension": ".py",
   "mimetype": "text/x-python",
   "name": "python",
   "nbconvert_exporter": "python",
   "pygments_lexer": "ipython3",
   "version": "3.10.6"
  }
 },
 "nbformat": 4,
 "nbformat_minor": 4
}
